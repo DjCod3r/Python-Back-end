{
 "cells": [
  {
   "cell_type": "code",
   "execution_count": 129,
   "id": "c21a56e6",
   "metadata": {},
   "outputs": [
    {
     "name": "stdout",
     "output_type": "stream",
     "text": [
      "range(0, 20)\n"
     ]
    }
   ],
   "source": [
    "vetor = range(0,20); print(vetor)"
   ]
  },
  {
   "cell_type": "code",
   "execution_count": 130,
   "id": "ab8be930",
   "metadata": {},
   "outputs": [],
   "source": [
    "#calculo do cubo\n",
    "def calcularCubo(value):\n",
    "    return value ** 3"
   ]
  },
  {
   "cell_type": "code",
   "execution_count": 131,
   "id": "e3bb790a",
   "metadata": {},
   "outputs": [
    {
     "name": "stdout",
     "output_type": "stream",
     "text": [
      "0\n",
      "1\n",
      "8\n",
      "27\n",
      "64\n",
      "125\n",
      "216\n",
      "343\n",
      "512\n",
      "729\n",
      "1000\n",
      "1331\n",
      "1728\n",
      "2197\n",
      "2744\n",
      "3375\n",
      "4096\n",
      "4913\n",
      "5832\n",
      "6859\n"
     ]
    }
   ],
   "source": [
    "for valor in vetor:\n",
    "    print(calcularCubo(valor))"
   ]
  },
  {
   "cell_type": "code",
   "execution_count": 132,
   "id": "4bf7a11c",
   "metadata": {},
   "outputs": [],
   "source": [
    "#calcular o quadrado\n",
    "def calculoQuadrado(value):\n",
    "    return value **2\n"
   ]
  },
  {
   "cell_type": "code",
   "execution_count": 133,
   "id": "b926ea54",
   "metadata": {},
   "outputs": [
    {
     "name": "stdout",
     "output_type": "stream",
     "text": [
      "0\n",
      "1\n",
      "4\n",
      "9\n",
      "16\n",
      "25\n",
      "36\n",
      "49\n",
      "64\n",
      "81\n",
      "100\n",
      "121\n",
      "144\n",
      "169\n",
      "196\n",
      "225\n",
      "256\n",
      "289\n",
      "324\n",
      "361\n"
     ]
    }
   ],
   "source": [
    "for valor in vetor:\n",
    "    print(calculoQuadrado(valor))"
   ]
  },
  {
   "cell_type": "code",
   "execution_count": 134,
   "id": "f81fe8c2",
   "metadata": {},
   "outputs": [],
   "source": [
    "#utilização da funcão map() podemos aplicar a função a um conjunto de elementos\n",
    "funcMap = map(calcularCubo,vetor)"
   ]
  },
  {
   "cell_type": "code",
   "execution_count": 135,
   "id": "ad0cb9d4",
   "metadata": {},
   "outputs": [
    {
     "name": "stdout",
     "output_type": "stream",
     "text": [
      "<map object at 0x000001D1BC985A90>\n"
     ]
    }
   ],
   "source": [
    "print(funcMap) #retorna o objeto tipo map que é possivel percorrer ele"
   ]
  },
  {
   "cell_type": "code",
   "execution_count": 136,
   "id": "50d0288f",
   "metadata": {},
   "outputs": [
    {
     "name": "stdout",
     "output_type": "stream",
     "text": [
      "[0, 1, 8, 27, 64, 125, 216, 343, 512, 729, 1000, 1331, 1728, 2197, 2744, 3375, 4096, 4913, 5832, 6859]\n"
     ]
    }
   ],
   "source": [
    "print(list(funcMap)) #retorna a lista dos valores aplicados"
   ]
  },
  {
   "cell_type": "code",
   "execution_count": 137,
   "id": "a6f0fba8",
   "metadata": {},
   "outputs": [
    {
     "name": "stdout",
     "output_type": "stream",
     "text": [
      "[0, 1, 4, 9, 16, 25, 36, 49, 64, 81, 100, 121, 144, 169, 196, 225, 256, 289, 324, 361]\n"
     ]
    }
   ],
   "source": [
    "funcQuadMap = map(calculoQuadrado, vetor); print(list(funcQuadMap))"
   ]
  },
  {
   "cell_type": "code",
   "execution_count": 138,
   "id": "fbaeaaf0",
   "metadata": {},
   "outputs": [],
   "source": [
    "#com a função map aplicamos a função a um conjunto de elementos(APLICANDO FLOAT A TODOS ELEMENTOS)\n",
    "funcMap2 = map(float , range(20))"
   ]
  },
  {
   "cell_type": "code",
   "execution_count": 139,
   "id": "5b65efc9",
   "metadata": {},
   "outputs": [
    {
     "data": {
      "text/plain": [
       "<map at 0x1d1bce41f70>"
      ]
     },
     "execution_count": 139,
     "metadata": {},
     "output_type": "execute_result"
    }
   ],
   "source": [
    "#retornando o objeto que é possivel percorrer ele\n",
    "funcMap2"
   ]
  },
  {
   "cell_type": "code",
   "execution_count": 140,
   "id": "2de96b8c",
   "metadata": {},
   "outputs": [
    {
     "name": "stdout",
     "output_type": "stream",
     "text": [
      "[0.0, 1.0, 2.0, 3.0, 4.0, 5.0, 6.0, 7.0, 8.0, 9.0, 10.0, 11.0, 12.0, 13.0, 14.0, 15.0, 16.0, 17.0, 18.0, 19.0]\n"
     ]
    }
   ],
   "source": [
    "#os objetos foram transformados em numeros reais. \n",
    "print(list(funcMap2))"
   ]
  },
  {
   "cell_type": "code",
   "execution_count": 141,
   "id": "1942595a",
   "metadata": {},
   "outputs": [],
   "source": [
    "from math import sqrt"
   ]
  },
  {
   "cell_type": "code",
   "execution_count": 142,
   "id": "6f801685",
   "metadata": {},
   "outputs": [
    {
     "data": {
      "text/plain": [
       "[0, 1, 2, 3, 4, 5, 6, 7, 8, 9, 10, 11, 12, 13, 14, 15, 16, 17, 18, 19]"
      ]
     },
     "execution_count": 142,
     "metadata": {},
     "output_type": "execute_result"
    }
   ],
   "source": [
    "vetor1 = list(vetor) ;vetor1"
   ]
  },
  {
   "cell_type": "code",
   "execution_count": 143,
   "id": "983ededc",
   "metadata": {},
   "outputs": [
    {
     "name": "stdout",
     "output_type": "stream",
     "text": [
      "[0.0, 1.0, 1.4142135623730951, 1.7320508075688772, 2.0]\n"
     ]
    }
   ],
   "source": [
    "#amostra da raiz quadrada dos valores do vetor1 do indice 1 ao 4\n",
    "print(list(map(sqrt,vetor1[0:5]))) \n"
   ]
  },
  {
   "cell_type": "code",
   "execution_count": 144,
   "id": "50ce47a3",
   "metadata": {},
   "outputs": [
    {
     "name": "stdout",
     "output_type": "stream",
     "text": [
      "[3.1622776601683795, 3.3166247903554, 3.4641016151377544, 3.605551275463989, 3.7416573867739413, 3.872983346207417, 4.0, 4.123105625617661, 4.242640687119285, 4.358898943540674]\n"
     ]
    }
   ],
   "source": [
    "#amostra da raiz quadrada dos valores do vetor1 do indice 10 ao 19\n",
    "print(list(map(sqrt,vetor1[10:20])))"
   ]
  },
  {
   "cell_type": "code",
   "execution_count": 145,
   "id": "8099d581",
   "metadata": {},
   "outputs": [
    {
     "name": "stdout",
     "output_type": "stream",
     "text": [
      "[0.0, 1.0, 1.4142135623730951, 1.7320508075688772, 2.0, 2.23606797749979, 2.449489742783178, 2.6457513110645907, 2.8284271247461903, 3.0, 3.1622776601683795, 3.3166247903554, 3.4641016151377544, 3.605551275463989, 3.7416573867739413, 3.872983346207417, 4.0, 4.123105625617661, 4.242640687119285, 4.358898943540674]\n"
     ]
    }
   ],
   "source": [
    "print(list(map(sqrt,vetor1)))"
   ]
  },
  {
   "cell_type": "code",
   "execution_count": 146,
   "id": "d0e31ded",
   "metadata": {},
   "outputs": [],
   "source": [
    "#Filter filtra elementos bool , que retorna os valores onde os elementos são True\n",
    "array = range(0, 10)"
   ]
  },
  {
   "cell_type": "code",
   "execution_count": 147,
   "id": "37b798ef",
   "metadata": {},
   "outputs": [
    {
     "name": "stdout",
     "output_type": "stream",
     "text": [
      "range(0, 10)\n"
     ]
    }
   ],
   "source": [
    "print(array)"
   ]
  },
  {
   "cell_type": "code",
   "execution_count": 148,
   "id": "525f6a9b",
   "metadata": {},
   "outputs": [],
   "source": [
    "#function that returns True if the value is even\n",
    "def isEven(value):\n",
    "    return value % 2 == 0"
   ]
  },
  {
   "cell_type": "code",
   "execution_count": 149,
   "id": "bb8d4780",
   "metadata": {},
   "outputs": [
    {
     "data": {
      "text/plain": [
       "True"
      ]
     },
     "execution_count": 149,
     "metadata": {},
     "output_type": "execute_result"
    }
   ],
   "source": [
    "isEven(190)"
   ]
  },
  {
   "cell_type": "code",
   "execution_count": 150,
   "id": "3172819f",
   "metadata": {},
   "outputs": [
    {
     "name": "stdout",
     "output_type": "stream",
     "text": [
      "[True, False, True, False, True, False, True, False, True, False]\n"
     ]
    }
   ],
   "source": [
    "#use map function in array and show values that are even\n",
    "#map vai verificar se o valor é par e retornar True ou False\n",
    "print(list(map(isEven, array)))"
   ]
  },
  {
   "cell_type": "code",
   "execution_count": 151,
   "id": "dccac049",
   "metadata": {},
   "outputs": [
    {
     "name": "stdout",
     "output_type": "stream",
     "text": [
      "[0, 2, 4, 6, 8]\n"
     ]
    }
   ],
   "source": [
    "#use filter function in array\n",
    "#filter vai verificar se o valor é par e retorna os valores True\n",
    "print(list(filter(isEven, array)))"
   ]
  },
  {
   "cell_type": "code",
   "execution_count": 152,
   "id": "a2db4c7e",
   "metadata": {},
   "outputs": [],
   "source": [
    "# Lista de frases\n",
    "lista_frases = [\"Big Data\", \n",
    "                \"Machine Learning em Big Data e Algoritmos em Big Data\", \n",
    "                \"Data Science e Big Data\", \n",
    "                \"Big Data e Internet das Coisas\",\n",
    "                \"Big Data está revolucionando o mundo, pois Big Data é um grande volume de dados\"]"
   ]
  },
  {
   "cell_type": "code",
   "execution_count": 153,
   "id": "de1f1ba3",
   "metadata": {},
   "outputs": [
    {
     "name": "stdout",
     "output_type": "stream",
     "text": [
      "['Machine Learning em Big Data e Algoritmos em Big Data', 'Data Science e Big Data', 'Big Data e Internet das Coisas', 'Big Data está revolucionando o mundo, pois Big Data é um grande volume de dados']\n"
     ]
    }
   ],
   "source": [
    "#usar o filter para retornar as frases que contenham a palavra Big Data e contem mais de 2 palavras\n",
    "print(list(filter(lambda frase: \"Big Data\" in frase and len(frase.split()) > 2, lista_frases)))  "
   ]
  },
  {
   "cell_type": "code",
   "execution_count": 155,
   "id": "c1a56d9d",
   "metadata": {},
   "outputs": [
    {
     "name": "stdout",
     "output_type": "stream",
     "text": [
      "['Big Data', 'Big Data e Internet das Coisas', 'Big Data está revolucionando o mundo, pois Big Data é um grande volume de dados', 'Data Science e Big Data', 'Machine Learning em Big Data e Algoritmos em Big Data']\n"
     ]
    }
   ],
   "source": [
    "#ordenare a lista de frases por ordem alfabetica\n",
    "print(sorted(lista_frases))"
   ]
  },
  {
   "cell_type": "code",
   "execution_count": 162,
   "id": "c4262a40",
   "metadata": {},
   "outputs": [],
   "source": [
    "# Lista de frases\n",
    "lista_phrases = [\"Big Data\", \n",
    "                \"Machine Learning em Big Data e Algoritmos em Big Data\", \n",
    "                \"Data Science e Big Data\", \n",
    "                \"Big Data e Internet das Coisas\",\n",
    "                \"Big Data está revolucionando o mundo, pois Big Data é um grande volume de dados\"]"
   ]
  },
  {
   "cell_type": "code",
   "execution_count": 167,
   "id": "fbce175e",
   "metadata": {},
   "outputs": [],
   "source": [
    "#retorna lista de Frases que contenham a palavra Big Data 2 vezes\n",
    "def testa_Bigdata(lista_phrases):\n",
    "    return lista_phrases.count(\"Big Data\") >= 2"
   ]
  },
  {
   "cell_type": "code",
   "execution_count": 168,
   "id": "2a2a9c4d",
   "metadata": {},
   "outputs": [
    {
     "data": {
      "text/plain": [
       "['Machine Learning em Big Data e Algoritmos em Big Data',\n",
       " 'Big Data está revolucionando o mundo, pois Big Data é um grande volume de dados']"
      ]
     },
     "execution_count": 168,
     "metadata": {},
     "output_type": "execute_result"
    }
   ],
   "source": [
    "list(filter(testa_Bigdata, lista_phrases))"
   ]
  },
  {
   "cell_type": "code",
   "execution_count": 169,
   "id": "924cbab8",
   "metadata": {},
   "outputs": [
    {
     "data": {
      "text/plain": [
       "[False, True, False, False, True]"
      ]
     },
     "execution_count": 169,
     "metadata": {},
     "output_type": "execute_result"
    }
   ],
   "source": [
    "list(map(testa_Bigdata, lista_phrases))"
   ]
  },
  {
   "cell_type": "markdown",
   "id": "b7ea3861",
   "metadata": {},
   "source": [
    "# reduce"
   ]
  },
  {
   "cell_type": "code",
   "execution_count": 170,
   "id": "dfb208fb",
   "metadata": {},
   "outputs": [],
   "source": [
    "from functools import reduce"
   ]
  },
  {
   "cell_type": "code",
   "execution_count": 174,
   "id": "ea84820d",
   "metadata": {},
   "outputs": [
    {
     "data": {
      "text/plain": [
       "45"
      ]
     },
     "execution_count": 174,
     "metadata": {},
     "output_type": "execute_result"
    }
   ],
   "source": [
    "#reduce vai aplicar a funcao a um conjunto de elementos\n",
    "soma = reduce((lambda x, y: x + y ), [1, 2, 3, 4])\n",
    "soma2 = reduce( lambda x, y: x + y , range(1,10))\n",
    "\n",
    "soma2"
   ]
  }
 ],
 "metadata": {
  "kernelspec": {
   "display_name": "Python 3 (ipykernel)",
   "language": "python",
   "name": "python3"
  },
  "language_info": {
   "codemirror_mode": {
    "name": "ipython",
    "version": 3
   },
   "file_extension": ".py",
   "mimetype": "text/x-python",
   "name": "python",
   "nbconvert_exporter": "python",
   "pygments_lexer": "ipython3",
   "version": "3.9.7"
  }
 },
 "nbformat": 4,
 "nbformat_minor": 5
}
