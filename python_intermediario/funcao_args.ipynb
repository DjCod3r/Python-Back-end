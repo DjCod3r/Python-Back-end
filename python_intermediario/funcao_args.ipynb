{
 "cells": [
  {
   "cell_type": "code",
   "execution_count": null,
   "metadata": {},
   "outputs": [],
   "source": [
    "import sys\n"
   ]
  },
  {
   "cell_type": "code",
   "execution_count": 2,
   "metadata": {},
   "outputs": [
    {
     "name": "stdout",
     "output_type": "stream",
     "text": [
      "1 2 [3, 4]\n"
     ]
    }
   ],
   "source": [
    "x, y , *resto = 1 ,2 ,3 ,4\n",
    "print(x, y, resto)"
   ]
  },
  {
   "cell_type": "code",
   "execution_count": 15,
   "metadata": {},
   "outputs": [
    {
     "name": "stdout",
     "output_type": "stream",
     "text": [
      "var dados 15\n",
      "total de kbytes em memoria 0.75KB\n"
     ]
    }
   ],
   "source": [
    "def soma(*args):\n",
    "    total = 0\n",
    "    for numero in args:\n",
    "        total += numero\n",
    "    return total\n",
    "dados = soma(1,2,3,4,5)\n",
    "print(f\"var dados {dados}\")\n",
    "\n",
    "#É necessário realizar o desempacotamento após empacotar os argumentos em *args\n",
    "\n",
    "numeros = 1,2,3,4,5,6,7,8,9,10\n",
    "lista_de_numeros = [1,2,3,4,5]\n",
    "\n",
    "#enviando valores * para serem desempacotados\n",
    "soma(*numeros)\n",
    "#desempacotando valores de uma lista\n",
    "soma(*lista_de_numeros)\n",
    "#calcular valor de kbytes das variáveis em memoria\n",
    "variaveis = locals().copy()\n",
    "total = 0\n",
    "for nome, valor in variaveis.items():\n",
    "    if nome != 'total':\n",
    "        total = sys.getsizeof(valor)\n",
    "print(f\"total de kbytes em memoria {total/1024}KB\")"
   ]
  }
 ],
 "metadata": {
  "kernelspec": {
   "display_name": "base",
   "language": "python",
   "name": "python3"
  },
  "language_info": {
   "codemirror_mode": {
    "name": "ipython",
    "version": 3
   },
   "file_extension": ".py",
   "mimetype": "text/x-python",
   "name": "python",
   "nbconvert_exporter": "python",
   "pygments_lexer": "ipython3",
   "version": "3.11.4"
  }
 },
 "nbformat": 4,
 "nbformat_minor": 2
}
